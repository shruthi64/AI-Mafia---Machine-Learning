{
 "cells": [
  {
   "cell_type": "code",
   "execution_count": 1,
   "metadata": {},
   "outputs": [],
   "source": [
    "from bs4 import BeautifulSoup\n",
    "import requests"
   ]
  },
  {
   "cell_type": "code",
   "execution_count": 2,
   "metadata": {},
   "outputs": [],
   "source": [
    "url='https://en.wikipedia.org/wiki/Seoul'"
   ]
  },
  {
   "cell_type": "code",
   "execution_count": 3,
   "metadata": {},
   "outputs": [],
   "source": [
    "result=requests.get(url)\n",
    "soup=BeautifulSoup(result.content,'lxml')"
   ]
  },
  {
   "cell_type": "code",
   "execution_count": 4,
   "metadata": {},
   "outputs": [
    {
     "name": "stdout",
     "output_type": "stream",
     "text": [
      "Geography\n",
      "Seoul is in the northwest of South Korea. Seoul proper comprises 605.25 km2 (233.69 sq mi),[2] with a radius of approximately 15 km (9 mi), roughly bisected into northern and southern halves by the Han River. The Han River and its surrounding area played an important role in Korean history. The Three Kingdoms of Korea strove to take control of this land, where the river was used as a trade route to China (via the Yellow Sea).[40] The river is no longer actively used for navigation, because its estuary is located at the borders of the two Koreas, with civilian entry barred. Historically, the city was during the Joseon dynasty bounded by the Seoul Fortress Wall, which stretched between the four main mountains in central Seoul: Namsan, Naksan, Bukhansan and Inwangsan. The city is bordered by eight mountains, as well as the more level lands of the Han River plain and western areas. Due to its geography and to economic development policies, Seoul is a very polycentric city. The area that was the old capital in the Joseon dynasty, and mostly comprises Jongno District and Jung District, constitutes the historical and political center of the city. However, for example, the city's financial capital is widely considered to be in Yeouido, while its economic capital is Gangnam District.\n",
      "\n"
     ]
    }
   ],
   "source": [
    "x=soup.find(id=\"Geography\")\n",
    "for i in x:\n",
    "    print(i)\n",
    "content=soup.findAll('p')[23].text\n",
    "print(content)"
   ]
  },
  {
   "cell_type": "code",
   "execution_count": null,
   "metadata": {},
   "outputs": [],
   "source": []
  }
 ],
 "metadata": {
  "kernelspec": {
   "display_name": "Python 3",
   "language": "python",
   "name": "python3"
  },
  "language_info": {
   "codemirror_mode": {
    "name": "ipython",
    "version": 3
   },
   "file_extension": ".py",
   "mimetype": "text/x-python",
   "name": "python",
   "nbconvert_exporter": "python",
   "pygments_lexer": "ipython3",
   "version": "3.7.7"
  }
 },
 "nbformat": 4,
 "nbformat_minor": 4
}
